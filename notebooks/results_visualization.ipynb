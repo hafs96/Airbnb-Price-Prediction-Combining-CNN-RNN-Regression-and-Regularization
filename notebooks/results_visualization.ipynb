{
 "cells": [
  {
   "cell_type": "code",
   "execution_count": 1,
   "id": "05bf00d5",
   "metadata": {},
   "outputs": [],
   "source": [
    "import matplotlib.pyplot as plt\n",
    "from sklearn.metrics import mean_squared_error, mean_absolute_error"
   ]
  },
  {
   "cell_type": "code",
   "execution_count": null,
   "id": "a8dc3e5b",
   "metadata": {},
   "outputs": [],
   "source": [
    "\n",
    "# Évaluation\n",
    "rmse = mean_squared_error(y_test, predictions, squared=False)\n",
    "mae = mean_absolute_error(y_test, predictions)\n",
    "print(f\"RMSE: {rmse}, MAE: {mae}\")\n",
    "\n"
   ]
  },
  {
   "cell_type": "code",
   "execution_count": null,
   "id": "95bf274d",
   "metadata": {},
   "outputs": [],
   "source": [
    "# Visualisation\n",
    "plt.scatter(y_test, predictions)\n",
    "plt.xlabel(\"True Prices\")\n",
    "plt.ylabel(\"Predicted Prices\")\n",
    "plt.title(\"True vs Predicted Prices\")\n",
    "plt.show()"
   ]
  }
 ],
 "metadata": {
  "kernelspec": {
   "display_name": "myenvv",
   "language": "python",
   "name": "python3"
  },
  "language_info": {
   "codemirror_mode": {
    "name": "ipython",
    "version": 3
   },
   "file_extension": ".py",
   "mimetype": "text/x-python",
   "name": "python",
   "nbconvert_exporter": "python",
   "pygments_lexer": "ipython3",
   "version": "3.11.9"
  }
 },
 "nbformat": 4,
 "nbformat_minor": 5
}
